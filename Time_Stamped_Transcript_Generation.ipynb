{
  "nbformat": 4,
  "nbformat_minor": 0,
  "metadata": {
    "colab": {
      "provenance": []
    },
    "kernelspec": {
      "name": "python3",
      "display_name": "Python 3"
    },
    "language_info": {
      "name": "python"
    }
  },
  "cells": [
    {
      "cell_type": "code",
      "execution_count": null,
      "metadata": {
        "colab": {
          "base_uri": "https://localhost:8080/"
        },
        "id": "RHJj_SnTjkNi",
        "outputId": "e1f46e12-5101-4004-9061-2dce457f63a8"
      },
      "outputs": [
        {
          "output_type": "stream",
          "name": "stdout",
          "text": [
            "Collecting youtube-transcript-api\n",
            "  Downloading youtube_transcript_api-1.0.3-py3-none-any.whl.metadata (23 kB)\n",
            "Requirement already satisfied: defusedxml<0.8.0,>=0.7.1 in /usr/local/lib/python3.11/dist-packages (from youtube-transcript-api) (0.7.1)\n",
            "Requirement already satisfied: requests in /usr/local/lib/python3.11/dist-packages (from youtube-transcript-api) (2.32.3)\n",
            "Requirement already satisfied: charset-normalizer<4,>=2 in /usr/local/lib/python3.11/dist-packages (from requests->youtube-transcript-api) (3.4.1)\n",
            "Requirement already satisfied: idna<4,>=2.5 in /usr/local/lib/python3.11/dist-packages (from requests->youtube-transcript-api) (3.10)\n",
            "Requirement already satisfied: urllib3<3,>=1.21.1 in /usr/local/lib/python3.11/dist-packages (from requests->youtube-transcript-api) (2.3.0)\n",
            "Requirement already satisfied: certifi>=2017.4.17 in /usr/local/lib/python3.11/dist-packages (from requests->youtube-transcript-api) (2025.1.31)\n",
            "Downloading youtube_transcript_api-1.0.3-py3-none-any.whl (2.2 MB)\n",
            "\u001b[2K   \u001b[90m━━━━━━━━━━━━━━━━━━━━━━━━━━━━━━━━━━━━━━━━\u001b[0m \u001b[32m2.2/2.2 MB\u001b[0m \u001b[31m17.1 MB/s\u001b[0m eta \u001b[36m0:00:00\u001b[0m\n",
            "\u001b[?25hInstalling collected packages: youtube-transcript-api\n",
            "Successfully installed youtube-transcript-api-1.0.3\n"
          ]
        }
      ],
      "source": [
        "pip install youtube-transcript-api"
      ]
    },
    {
      "cell_type": "code",
      "source": [
        "from youtube_transcript_api import YouTubeTranscriptApi\n",
        "import pandas as pd"
      ],
      "metadata": {
        "id": "OLAF0Nfa1QXW"
      },
      "execution_count": null,
      "outputs": []
    },
    {
      "cell_type": "code",
      "source": [
        "# --- Step 1: Define your speaker segments ---\n",
        "speaker_segments = [\n",
        "    {\"speaker\": \"Poonamben Maadam\", \"start_time\": \"00:00:00\", \"end_time\": \"00:01:15\"},\n",
        "    {\"speaker\": \"Ashwini Vaishnaw\", \"start_time\": \"00:01:15\", \"end_time\": \"00:07:25\"},\n",
        "    {\"speaker\": \"Rajeshbhai Chudasama\", \"start_time\": \"00:07:25\", \"end_time\": \"00:08:45\"},\n",
        "    {\"speaker\": \"Ashwini Vaishnaw\", \"start_time\": \"00:08:45\", \"end_time\": \"00:09:26\"},\n",
        "    {\"speaker\": \"Rajeshbhai Chudasama\", \"start_time\": \"00:09:30\", \"end_time\": \"00:10:25\"},\n",
        "    {\"speaker\": \"Ashwini Vaishnaw\", \"start_time\": \"00:10:25\", \"end_time\": \"00:11:06\"},\n",
        "    {\"speaker\": \"Dr. T Sumathy Alias Thamizhachi Thangapandian\", \"start_time\": \"00:11:06\", \"end_time\": \"00:12:48\"},\n",
        "    {\"speaker\": \"Ashwini Vaishnaw\", \"start_time\": \"00:12:59\", \"end_time\": \"00:14:56\"},\n",
        "    {\"speaker\": \"Kiren Rijiju\", \"start_time\": \"00:56:19\", \"end_time\": \"01:52:19\"},\n",
        "    {\"speaker\": \"Gaurav Gogoi\", \"start_time\": \"01:55:29\", \"end_time\": \"02:24:49\"},\n",
        "    {\"speaker\": \"Ravi Shankar Prasad\", \"start_time\": \"02:25:08\", \"end_time\": \"02:49:32\"},\n",
        "    {\"speaker\": \"Akhilesh Yadav\", \"start_time\": \"02:49:45\", \"end_time\": \"03:10:24\"},\n",
        "    {\"speaker\": \"Kalyan Banerjee\", \"start_time\": \"03:10:40\", \"end_time\": \"03:45:50\"},\n",
        "    {\"speaker\": \"Andimuthu Raja\", \"start_time\": \"03:46:06\", \"end_time\": \"04:18:21\"},\n",
        "    {\"speaker\": \"Krishna Prasad Tenneti\", \"start_time\": \"04:18:20\", \"end_time\": \"04:29:23\"},\n",
        "    {\"speaker\": \"Rajiv Ranjan Singh\", \"start_time\": \"04:29:46\", \"end_time\": \"04:47:14\"},\n",
        "]"
      ],
      "metadata": {
        "id": "uLnwP4EPjyLl"
      },
      "execution_count": null,
      "outputs": []
    },
    {
      "cell_type": "code",
      "source": [
        "# --- Step 2: Helper function to convert HH:MM:SS to seconds ---\n",
        "def time_to_seconds(time_str):\n",
        "    h, m, s = map(int, time_str.split(\":\"))\n",
        "    return h * 3600 + m * 60 + s"
      ],
      "metadata": {
        "id": "oCyJQCn71HM3"
      },
      "execution_count": null,
      "outputs": []
    },
    {
      "cell_type": "code",
      "source": [
        "# --- Step 3: Fetch the Hindi auto-generated transcript ---\n",
        "video_id = 'AwchAgK9YBw'\n",
        "transcript_hi = YouTubeTranscriptApi.get_transcript(video_id, languages=['hi'])"
      ],
      "metadata": {
        "id": "Z01hWqcb1KOi"
      },
      "execution_count": null,
      "outputs": []
    },
    {
      "cell_type": "code",
      "source": [
        "# --- Step 4: Match segments to speakers ---\n",
        "def get_speaker_transcripts(transcript, speaker_segments):\n",
        "    speaker_transcripts = []\n",
        "\n",
        "    for segment in speaker_segments:\n",
        "        start_sec = time_to_seconds(segment[\"start_time\"])\n",
        "        end_sec = time_to_seconds(segment[\"end_time\"])\n",
        "        speaker_text = \"\"\n",
        "\n",
        "        for entry in transcript:\n",
        "            if start_sec <= entry['start'] <= end_sec:\n",
        "                speaker_text += entry['text'] + \" \"\n",
        "\n",
        "        if speaker_text.strip():  # Only add if text exists\n",
        "            speaker_transcripts.append({\n",
        "                \"speaker\": segment[\"speaker\"],\n",
        "                \"text\": speaker_text.strip()\n",
        "            })\n",
        "\n",
        "    return speaker_transcripts"
      ],
      "metadata": {
        "id": "wd59_quu1L67"
      },
      "execution_count": null,
      "outputs": []
    },
    {
      "cell_type": "code",
      "source": [
        "# --- Step 5: Create structured output ---\n",
        "structured_data = get_speaker_transcripts(transcript_hi, speaker_segments)\n",
        "df = pd.DataFrame(structured_data)"
      ],
      "metadata": {
        "id": "NqRr3g0p1UzH"
      },
      "execution_count": null,
      "outputs": []
    },
    {
      "cell_type": "code",
      "source": [
        "# --- Step 6: Save to CSV (Optional) ---\n",
        "df.to_csv(\"structured_waqf_speeches.csv\", index=False, encoding='utf-8-sig')"
      ],
      "metadata": {
        "id": "h8musoRz1W4c"
      },
      "execution_count": null,
      "outputs": []
    },
    {
      "cell_type": "code",
      "source": [
        "# --- Display Result ---\n",
        "print(df.head())"
      ],
      "metadata": {
        "colab": {
          "base_uri": "https://localhost:8080/"
        },
        "id": "ei9C3mCt1YNf",
        "outputId": "c3d7d583-e11d-472a-b43a-8f4d62ee6c0b"
      },
      "execution_count": null,
      "outputs": [
        {
          "output_type": "stream",
          "name": "stdout",
          "text": [
            "                speaker                                               text\n",
            "0      Poonamben Maadam  करूंगी कि मेरे क्षेत्र में बहुत सारे काम व डबल...\n",
            "1      Ashwini Vaishnaw  महोदय ने बहुत ही एक महत्त्वपूर्ण विषय उठाया है...\n",
            "2  Rajeshbhai Chudasama  अध्यक्ष जी मैं देश की जनता के की ओर से माननीय ...\n",
            "3      Ashwini Vaishnaw  जी सोमनाथ एक ऐसी हमारी सांस्कृतिक धरोहर है एक ...\n",
            "4  Rajeshbhai Chudasama  बताऊंगा नल मेंबर माननीय अध्यक्ष जी मेरे संसदीय...\n"
          ]
        }
      ]
    }
  ]
}